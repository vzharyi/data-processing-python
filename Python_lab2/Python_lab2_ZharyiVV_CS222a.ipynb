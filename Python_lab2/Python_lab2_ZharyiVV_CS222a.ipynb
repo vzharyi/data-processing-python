{
 "cells": [
  {
   "cell_type": "markdown",
   "id": "95f0a327-2cc1-4c9d-b207-4b564b164eb2",
   "metadata": {},
   "source": [
    "# Lab 2: Using Pandas for data analysis"
   ]
  },
  {
   "cell_type": "markdown",
   "id": "08039a96-36dd-4fc6-8dae-c6fa0d87d8e1",
   "metadata": {},
   "source": [
    "### **Purpose** : learn the main functions of Pandas for data analysis."
   ]
  },
  {
   "cell_type": "markdown",
   "id": "a7246b47-16b2-4654-b45e-1f57a9c6fd6a",
   "metadata": {},
   "source": [
    "1. Download ***NationalNames.csv*** file, a dataset of U.S. baby names from the site Kaggle.com  \n",
    "   **link:** https://www.kaggle.com/kaggle/us-baby-names?select=NationalNames.csv\n",
    "3. **Complete the exercises for the options. To calculate the option number \n",
    "use the formula**  \n",
    "   N = (n + 4 ) % 5 + 1,  \n",
    "   where N is the option number, n is the number in the group list."
   ]
  },
  {
   "cell_type": "code",
   "execution_count": 1,
   "id": "f4dc1c58-bbd3-42ba-81df-5006475e4b98",
   "metadata": {},
   "outputs": [
    {
     "name": "stdout",
     "output_type": "stream",
     "text": [
      "Zharyi Vadym. Variant: 1\n"
     ]
    }
   ],
   "source": [
    "n = 6\n",
    "N = (n + 4) % 5 + 1\n",
    "print(f\"Zharyi Vadym. Variant: {N}\")"
   ]
  },
  {
   "cell_type": "markdown",
   "id": "0c6b4dce-a8ee-467c-b985-c3dbe98e8a44",
   "metadata": {},
   "source": [
    "#### List of exercises for Variant 1:\n",
    "\n",
    "| Variant| Exercise numbers                                                   |\n",
    "|:-------|:-------------------------------------------------------------------|\n",
    "| 1      | 1, 2, 3, 5, 10, 11, 12, 13, 14, 15, 16, 17, 18, 21, 22, 23, 24, 26 |\n",
    "\n",
    "⬇️Import data for further processing⬇️"
   ]
  },
  {
   "cell_type": "code",
   "execution_count": 118,
   "id": "2229c6d8-a675-4c7e-bd38-41ef1a004967",
   "metadata": {},
   "outputs": [
    {
     "data": {
      "text/html": [
       "<div>\n",
       "<style scoped>\n",
       "    .dataframe tbody tr th:only-of-type {\n",
       "        vertical-align: middle;\n",
       "    }\n",
       "\n",
       "    .dataframe tbody tr th {\n",
       "        vertical-align: top;\n",
       "    }\n",
       "\n",
       "    .dataframe thead th {\n",
       "        text-align: right;\n",
       "    }\n",
       "</style>\n",
       "<table border=\"1\" class=\"dataframe\">\n",
       "  <thead>\n",
       "    <tr style=\"text-align: right;\">\n",
       "      <th></th>\n",
       "      <th>Id</th>\n",
       "      <th>Name</th>\n",
       "      <th>Year</th>\n",
       "      <th>Gender</th>\n",
       "      <th>Count</th>\n",
       "    </tr>\n",
       "  </thead>\n",
       "  <tbody>\n",
       "    <tr>\n",
       "      <th>0</th>\n",
       "      <td>1</td>\n",
       "      <td>Mary</td>\n",
       "      <td>1880</td>\n",
       "      <td>F</td>\n",
       "      <td>7065</td>\n",
       "    </tr>\n",
       "    <tr>\n",
       "      <th>1</th>\n",
       "      <td>2</td>\n",
       "      <td>Anna</td>\n",
       "      <td>1880</td>\n",
       "      <td>F</td>\n",
       "      <td>2604</td>\n",
       "    </tr>\n",
       "    <tr>\n",
       "      <th>2</th>\n",
       "      <td>3</td>\n",
       "      <td>Emma</td>\n",
       "      <td>1880</td>\n",
       "      <td>F</td>\n",
       "      <td>2003</td>\n",
       "    </tr>\n",
       "    <tr>\n",
       "      <th>3</th>\n",
       "      <td>4</td>\n",
       "      <td>Elizabeth</td>\n",
       "      <td>1880</td>\n",
       "      <td>F</td>\n",
       "      <td>1939</td>\n",
       "    </tr>\n",
       "    <tr>\n",
       "      <th>4</th>\n",
       "      <td>5</td>\n",
       "      <td>Minnie</td>\n",
       "      <td>1880</td>\n",
       "      <td>F</td>\n",
       "      <td>1746</td>\n",
       "    </tr>\n",
       "    <tr>\n",
       "      <th>...</th>\n",
       "      <td>...</td>\n",
       "      <td>...</td>\n",
       "      <td>...</td>\n",
       "      <td>...</td>\n",
       "      <td>...</td>\n",
       "    </tr>\n",
       "    <tr>\n",
       "      <th>1825428</th>\n",
       "      <td>1825429</td>\n",
       "      <td>Zykeem</td>\n",
       "      <td>2014</td>\n",
       "      <td>M</td>\n",
       "      <td>5</td>\n",
       "    </tr>\n",
       "    <tr>\n",
       "      <th>1825429</th>\n",
       "      <td>1825430</td>\n",
       "      <td>Zymeer</td>\n",
       "      <td>2014</td>\n",
       "      <td>M</td>\n",
       "      <td>5</td>\n",
       "    </tr>\n",
       "    <tr>\n",
       "      <th>1825430</th>\n",
       "      <td>1825431</td>\n",
       "      <td>Zymiere</td>\n",
       "      <td>2014</td>\n",
       "      <td>M</td>\n",
       "      <td>5</td>\n",
       "    </tr>\n",
       "    <tr>\n",
       "      <th>1825431</th>\n",
       "      <td>1825432</td>\n",
       "      <td>Zyran</td>\n",
       "      <td>2014</td>\n",
       "      <td>M</td>\n",
       "      <td>5</td>\n",
       "    </tr>\n",
       "    <tr>\n",
       "      <th>1825432</th>\n",
       "      <td>1825433</td>\n",
       "      <td>Zyrin</td>\n",
       "      <td>2014</td>\n",
       "      <td>M</td>\n",
       "      <td>5</td>\n",
       "    </tr>\n",
       "  </tbody>\n",
       "</table>\n",
       "<p>1825433 rows × 5 columns</p>\n",
       "</div>"
      ],
      "text/plain": [
       "              Id       Name  Year Gender  Count\n",
       "0              1       Mary  1880      F   7065\n",
       "1              2       Anna  1880      F   2604\n",
       "2              3       Emma  1880      F   2003\n",
       "3              4  Elizabeth  1880      F   1939\n",
       "4              5     Minnie  1880      F   1746\n",
       "...          ...        ...   ...    ...    ...\n",
       "1825428  1825429     Zykeem  2014      M      5\n",
       "1825429  1825430     Zymeer  2014      M      5\n",
       "1825430  1825431    Zymiere  2014      M      5\n",
       "1825431  1825432      Zyran  2014      M      5\n",
       "1825432  1825433      Zyrin  2014      M      5\n",
       "\n",
       "[1825433 rows x 5 columns]"
      ]
     },
     "execution_count": 118,
     "metadata": {},
     "output_type": "execute_result"
    }
   ],
   "source": [
    "import numpy as np\n",
    "import pandas as pd\n",
    "import matplotlib.pyplot as plt\n",
    "file_path = \"NationalNames.csv\"\n",
    "df = pd.read_csv(file_path)\n",
    "df"
   ]
  },
  {
   "cell_type": "markdown",
   "id": "c198c72d-12eb-4f4e-abd3-326d02ac3b9b",
   "metadata": {},
   "source": [
    "## **Task 1**\n",
    "### Print the first 8 lines of the data set"
   ]
  },
  {
   "cell_type": "code",
   "execution_count": 3,
   "id": "2c8b8d6d-a9a7-467c-a552-d87ab4af195f",
   "metadata": {},
   "outputs": [
    {
     "data": {
      "text/html": [
       "<div>\n",
       "<style scoped>\n",
       "    .dataframe tbody tr th:only-of-type {\n",
       "        vertical-align: middle;\n",
       "    }\n",
       "\n",
       "    .dataframe tbody tr th {\n",
       "        vertical-align: top;\n",
       "    }\n",
       "\n",
       "    .dataframe thead th {\n",
       "        text-align: right;\n",
       "    }\n",
       "</style>\n",
       "<table border=\"1\" class=\"dataframe\">\n",
       "  <thead>\n",
       "    <tr style=\"text-align: right;\">\n",
       "      <th></th>\n",
       "      <th>Id</th>\n",
       "      <th>Name</th>\n",
       "      <th>Year</th>\n",
       "      <th>Gender</th>\n",
       "      <th>Count</th>\n",
       "    </tr>\n",
       "  </thead>\n",
       "  <tbody>\n",
       "    <tr>\n",
       "      <th>0</th>\n",
       "      <td>1</td>\n",
       "      <td>Mary</td>\n",
       "      <td>1880</td>\n",
       "      <td>F</td>\n",
       "      <td>7065</td>\n",
       "    </tr>\n",
       "    <tr>\n",
       "      <th>1</th>\n",
       "      <td>2</td>\n",
       "      <td>Anna</td>\n",
       "      <td>1880</td>\n",
       "      <td>F</td>\n",
       "      <td>2604</td>\n",
       "    </tr>\n",
       "    <tr>\n",
       "      <th>2</th>\n",
       "      <td>3</td>\n",
       "      <td>Emma</td>\n",
       "      <td>1880</td>\n",
       "      <td>F</td>\n",
       "      <td>2003</td>\n",
       "    </tr>\n",
       "    <tr>\n",
       "      <th>3</th>\n",
       "      <td>4</td>\n",
       "      <td>Elizabeth</td>\n",
       "      <td>1880</td>\n",
       "      <td>F</td>\n",
       "      <td>1939</td>\n",
       "    </tr>\n",
       "    <tr>\n",
       "      <th>4</th>\n",
       "      <td>5</td>\n",
       "      <td>Minnie</td>\n",
       "      <td>1880</td>\n",
       "      <td>F</td>\n",
       "      <td>1746</td>\n",
       "    </tr>\n",
       "    <tr>\n",
       "      <th>5</th>\n",
       "      <td>6</td>\n",
       "      <td>Margaret</td>\n",
       "      <td>1880</td>\n",
       "      <td>F</td>\n",
       "      <td>1578</td>\n",
       "    </tr>\n",
       "    <tr>\n",
       "      <th>6</th>\n",
       "      <td>7</td>\n",
       "      <td>Ida</td>\n",
       "      <td>1880</td>\n",
       "      <td>F</td>\n",
       "      <td>1472</td>\n",
       "    </tr>\n",
       "    <tr>\n",
       "      <th>7</th>\n",
       "      <td>8</td>\n",
       "      <td>Alice</td>\n",
       "      <td>1880</td>\n",
       "      <td>F</td>\n",
       "      <td>1414</td>\n",
       "    </tr>\n",
       "  </tbody>\n",
       "</table>\n",
       "</div>"
      ],
      "text/plain": [
       "   Id       Name  Year Gender  Count\n",
       "0   1       Mary  1880      F   7065\n",
       "1   2       Anna  1880      F   2604\n",
       "2   3       Emma  1880      F   2003\n",
       "3   4  Elizabeth  1880      F   1939\n",
       "4   5     Minnie  1880      F   1746\n",
       "5   6   Margaret  1880      F   1578\n",
       "6   7        Ida  1880      F   1472\n",
       "7   8      Alice  1880      F   1414"
      ]
     },
     "execution_count": 3,
     "metadata": {},
     "output_type": "execute_result"
    }
   ],
   "source": [
    "df.head(8)"
   ]
  },
  {
   "cell_type": "markdown",
   "id": "34aa85d1-e496-461a-8a91-f7457232e293",
   "metadata": {},
   "source": [
    "## **Task 2**\n",
    "### Print the last 8 lines of the data set"
   ]
  },
  {
   "cell_type": "code",
   "execution_count": 4,
   "id": "61395ed6-a535-4f82-9fb6-18934022ba73",
   "metadata": {},
   "outputs": [
    {
     "data": {
      "text/html": [
       "<div>\n",
       "<style scoped>\n",
       "    .dataframe tbody tr th:only-of-type {\n",
       "        vertical-align: middle;\n",
       "    }\n",
       "\n",
       "    .dataframe tbody tr th {\n",
       "        vertical-align: top;\n",
       "    }\n",
       "\n",
       "    .dataframe thead th {\n",
       "        text-align: right;\n",
       "    }\n",
       "</style>\n",
       "<table border=\"1\" class=\"dataframe\">\n",
       "  <thead>\n",
       "    <tr style=\"text-align: right;\">\n",
       "      <th></th>\n",
       "      <th>Id</th>\n",
       "      <th>Name</th>\n",
       "      <th>Year</th>\n",
       "      <th>Gender</th>\n",
       "      <th>Count</th>\n",
       "    </tr>\n",
       "  </thead>\n",
       "  <tbody>\n",
       "    <tr>\n",
       "      <th>1825425</th>\n",
       "      <td>1825426</td>\n",
       "      <td>Zo</td>\n",
       "      <td>2014</td>\n",
       "      <td>M</td>\n",
       "      <td>5</td>\n",
       "    </tr>\n",
       "    <tr>\n",
       "      <th>1825426</th>\n",
       "      <td>1825427</td>\n",
       "      <td>Zyeir</td>\n",
       "      <td>2014</td>\n",
       "      <td>M</td>\n",
       "      <td>5</td>\n",
       "    </tr>\n",
       "    <tr>\n",
       "      <th>1825427</th>\n",
       "      <td>1825428</td>\n",
       "      <td>Zyel</td>\n",
       "      <td>2014</td>\n",
       "      <td>M</td>\n",
       "      <td>5</td>\n",
       "    </tr>\n",
       "    <tr>\n",
       "      <th>1825428</th>\n",
       "      <td>1825429</td>\n",
       "      <td>Zykeem</td>\n",
       "      <td>2014</td>\n",
       "      <td>M</td>\n",
       "      <td>5</td>\n",
       "    </tr>\n",
       "    <tr>\n",
       "      <th>1825429</th>\n",
       "      <td>1825430</td>\n",
       "      <td>Zymeer</td>\n",
       "      <td>2014</td>\n",
       "      <td>M</td>\n",
       "      <td>5</td>\n",
       "    </tr>\n",
       "    <tr>\n",
       "      <th>1825430</th>\n",
       "      <td>1825431</td>\n",
       "      <td>Zymiere</td>\n",
       "      <td>2014</td>\n",
       "      <td>M</td>\n",
       "      <td>5</td>\n",
       "    </tr>\n",
       "    <tr>\n",
       "      <th>1825431</th>\n",
       "      <td>1825432</td>\n",
       "      <td>Zyran</td>\n",
       "      <td>2014</td>\n",
       "      <td>M</td>\n",
       "      <td>5</td>\n",
       "    </tr>\n",
       "    <tr>\n",
       "      <th>1825432</th>\n",
       "      <td>1825433</td>\n",
       "      <td>Zyrin</td>\n",
       "      <td>2014</td>\n",
       "      <td>M</td>\n",
       "      <td>5</td>\n",
       "    </tr>\n",
       "  </tbody>\n",
       "</table>\n",
       "</div>"
      ],
      "text/plain": [
       "              Id     Name  Year Gender  Count\n",
       "1825425  1825426       Zo  2014      M      5\n",
       "1825426  1825427    Zyeir  2014      M      5\n",
       "1825427  1825428     Zyel  2014      M      5\n",
       "1825428  1825429   Zykeem  2014      M      5\n",
       "1825429  1825430   Zymeer  2014      M      5\n",
       "1825430  1825431  Zymiere  2014      M      5\n",
       "1825431  1825432    Zyran  2014      M      5\n",
       "1825432  1825433    Zyrin  2014      M      5"
      ]
     },
     "execution_count": 4,
     "metadata": {},
     "output_type": "execute_result"
    }
   ],
   "source": [
    "df.tail(8)"
   ]
  },
  {
   "cell_type": "markdown",
   "id": "0eb7ae1b-b8e6-4fa6-ae25-0fb67e9d73f4",
   "metadata": {},
   "source": [
    "## **Task 3**\n",
    "### Get the column names of the data set"
   ]
  },
  {
   "cell_type": "code",
   "execution_count": 5,
   "id": "9ad199c8-af63-4468-b894-13d3ef15e18b",
   "metadata": {},
   "outputs": [
    {
     "data": {
      "text/plain": [
       "Index(['Id', 'Name', 'Year', 'Gender', 'Count'], dtype='object')"
      ]
     },
     "execution_count": 5,
     "metadata": {},
     "output_type": "execute_result"
    }
   ],
   "source": [
    "df.columns"
   ]
  },
  {
   "cell_type": "markdown",
   "id": "bcc7df04-7187-44ef-b911-a17d4d4d5ff1",
   "metadata": {},
   "source": [
    "## **Task 5**\n",
    "### Find the number of unique names in the data set"
   ]
  },
  {
   "cell_type": "code",
   "execution_count": 6,
   "id": "de2f712c-24fb-4620-a1f0-e4f955b394d8",
   "metadata": {},
   "outputs": [
    {
     "data": {
      "text/plain": [
       "93889"
      ]
     },
     "execution_count": 6,
     "metadata": {},
     "output_type": "execute_result"
    }
   ],
   "source": [
    "df['Name'].nunique()"
   ]
  },
  {
   "cell_type": "markdown",
   "id": "a9f7f55c-1994-4eb3-8c58-81e6730ad5b3",
   "metadata": {},
   "source": [
    "## **Task 10**\n",
    "### Count the number of unique names in each year"
   ]
  },
  {
   "cell_type": "code",
   "execution_count": 7,
   "id": "89b79e03-bd65-4d51-8298-d54c33e0c2d0",
   "metadata": {
    "scrolled": true
   },
   "outputs": [
    {
     "data": {
      "text/html": [
       "<div>\n",
       "<style scoped>\n",
       "    .dataframe tbody tr th:only-of-type {\n",
       "        vertical-align: middle;\n",
       "    }\n",
       "\n",
       "    .dataframe tbody tr th {\n",
       "        vertical-align: top;\n",
       "    }\n",
       "\n",
       "    .dataframe thead th {\n",
       "        text-align: right;\n",
       "    }\n",
       "</style>\n",
       "<table border=\"1\" class=\"dataframe\">\n",
       "  <thead>\n",
       "    <tr style=\"text-align: right;\">\n",
       "      <th></th>\n",
       "      <th>Name</th>\n",
       "    </tr>\n",
       "    <tr>\n",
       "      <th>Year</th>\n",
       "      <th></th>\n",
       "    </tr>\n",
       "  </thead>\n",
       "  <tbody>\n",
       "    <tr>\n",
       "      <th>1880</th>\n",
       "      <td>1889</td>\n",
       "    </tr>\n",
       "    <tr>\n",
       "      <th>1881</th>\n",
       "      <td>1830</td>\n",
       "    </tr>\n",
       "    <tr>\n",
       "      <th>1882</th>\n",
       "      <td>2012</td>\n",
       "    </tr>\n",
       "    <tr>\n",
       "      <th>1883</th>\n",
       "      <td>1962</td>\n",
       "    </tr>\n",
       "    <tr>\n",
       "      <th>1884</th>\n",
       "      <td>2158</td>\n",
       "    </tr>\n",
       "    <tr>\n",
       "      <th>...</th>\n",
       "      <td>...</td>\n",
       "    </tr>\n",
       "    <tr>\n",
       "      <th>2010</th>\n",
       "      <td>31603</td>\n",
       "    </tr>\n",
       "    <tr>\n",
       "      <th>2011</th>\n",
       "      <td>31418</td>\n",
       "    </tr>\n",
       "    <tr>\n",
       "      <th>2012</th>\n",
       "      <td>31236</td>\n",
       "    </tr>\n",
       "    <tr>\n",
       "      <th>2013</th>\n",
       "      <td>30774</td>\n",
       "    </tr>\n",
       "    <tr>\n",
       "      <th>2014</th>\n",
       "      <td>30579</td>\n",
       "    </tr>\n",
       "  </tbody>\n",
       "</table>\n",
       "<p>135 rows × 1 columns</p>\n",
       "</div>"
      ],
      "text/plain": [
       "       Name\n",
       "Year       \n",
       "1880   1889\n",
       "1881   1830\n",
       "1882   2012\n",
       "1883   1962\n",
       "1884   2158\n",
       "...     ...\n",
       "2010  31603\n",
       "2011  31418\n",
       "2012  31236\n",
       "2013  30774\n",
       "2014  30579\n",
       "\n",
       "[135 rows x 1 columns]"
      ]
     },
     "execution_count": 7,
     "metadata": {},
     "output_type": "execute_result"
    }
   ],
   "source": [
    "df.groupby('Year').agg({'Name' : 'nunique'})"
   ]
  },
  {
   "cell_type": "markdown",
   "id": "e7bd5595-7b6e-4722-bcd6-318f0ed7294c",
   "metadata": {},
   "source": [
    "## **Task 11**\n",
    "### Find the year with the most unique names"
   ]
  },
  {
   "cell_type": "code",
   "execution_count": 8,
   "id": "6c5c60cd-dced-4ce6-bb60-970b111e862d",
   "metadata": {},
   "outputs": [
    {
     "data": {
      "text/html": [
       "<div>\n",
       "<style scoped>\n",
       "    .dataframe tbody tr th:only-of-type {\n",
       "        vertical-align: middle;\n",
       "    }\n",
       "\n",
       "    .dataframe tbody tr th {\n",
       "        vertical-align: top;\n",
       "    }\n",
       "\n",
       "    .dataframe thead th {\n",
       "        text-align: right;\n",
       "    }\n",
       "</style>\n",
       "<table border=\"1\" class=\"dataframe\">\n",
       "  <thead>\n",
       "    <tr style=\"text-align: right;\">\n",
       "      <th></th>\n",
       "      <th>Name</th>\n",
       "    </tr>\n",
       "    <tr>\n",
       "      <th>Year</th>\n",
       "      <th></th>\n",
       "    </tr>\n",
       "  </thead>\n",
       "  <tbody>\n",
       "    <tr>\n",
       "      <th>2008</th>\n",
       "      <td>32488</td>\n",
       "    </tr>\n",
       "  </tbody>\n",
       "</table>\n",
       "</div>"
      ],
      "text/plain": [
       "       Name\n",
       "Year       \n",
       "2008  32488"
      ]
     },
     "execution_count": 8,
     "metadata": {},
     "output_type": "execute_result"
    }
   ],
   "source": [
    "df.groupby('Year').agg({'Name' : 'nunique'}).nlargest(1, 'Name')\n"
   ]
  },
  {
   "cell_type": "markdown",
   "id": "af24724c-284c-4aae-a726-fa0088a4bee0",
   "metadata": {},
   "source": [
    "## **Task 12**\n",
    "### Find the most popular name in the year with the most unique names (i.e. in 2008)"
   ]
  },
  {
   "cell_type": "code",
   "execution_count": 9,
   "id": "849cf627-3e4b-4908-8499-5a0489cbc5d3",
   "metadata": {},
   "outputs": [
    {
     "data": {
      "text/plain": [
       "'Jacob'"
      ]
     },
     "execution_count": 9,
     "metadata": {},
     "output_type": "execute_result"
    }
   ],
   "source": [
    "year_with_most_unique_names = df.groupby('Year').agg({'Name' : 'nunique'}).nlargest(1, 'Name').index[0]\n",
    "df[df['Year'] == year_with_most_unique_names].groupby('Name').agg({'Count': 'sum'}).nlargest(1, 'Count').index[0]"
   ]
  },
  {
   "cell_type": "markdown",
   "id": "8d4b7ee0-fdee-49cf-bd01-87cc741aa000",
   "metadata": {},
   "source": [
    "## **Task 13**\n",
    "### Find the year when the name Jacob was the most popular for female's name"
   ]
  },
  {
   "cell_type": "code",
   "execution_count": 68,
   "id": "4235f237-f2fd-4d65-a347-a90494a1bb31",
   "metadata": {},
   "outputs": [
    {
     "data": {
      "text/html": [
       "<div>\n",
       "<style scoped>\n",
       "    .dataframe tbody tr th:only-of-type {\n",
       "        vertical-align: middle;\n",
       "    }\n",
       "\n",
       "    .dataframe tbody tr th {\n",
       "        vertical-align: top;\n",
       "    }\n",
       "\n",
       "    .dataframe thead th {\n",
       "        text-align: right;\n",
       "    }\n",
       "</style>\n",
       "<table border=\"1\" class=\"dataframe\">\n",
       "  <thead>\n",
       "    <tr style=\"text-align: right;\">\n",
       "      <th></th>\n",
       "      <th>Id</th>\n",
       "      <th>Name</th>\n",
       "      <th>Year</th>\n",
       "      <th>Gender</th>\n",
       "      <th>Count</th>\n",
       "    </tr>\n",
       "  </thead>\n",
       "  <tbody>\n",
       "    <tr>\n",
       "      <th>1455556</th>\n",
       "      <td>1455557</td>\n",
       "      <td>Jacob</td>\n",
       "      <td>2004</td>\n",
       "      <td>F</td>\n",
       "      <td>171</td>\n",
       "    </tr>\n",
       "  </tbody>\n",
       "</table>\n",
       "</div>"
      ],
      "text/plain": [
       "              Id   Name  Year Gender  Count\n",
       "1455556  1455557  Jacob  2004      F    171"
      ]
     },
     "execution_count": 68,
     "metadata": {},
     "output_type": "execute_result"
    }
   ],
   "source": [
    "df[(df['Name'] == 'Jacob') & (df['Gender'] == 'F')].nlargest(1, 'Count')\n"
   ]
  },
  {
   "cell_type": "markdown",
   "id": "fc873f6a-4bf6-4a60-8c63-9747159d4657",
   "metadata": {},
   "source": [
    "## **Task 14**\n",
    "### Find the year with the highest number of gender neutral names (same male and female names)"
   ]
  },
  {
   "cell_type": "code",
   "execution_count": 40,
   "id": "8002c12f-6e1f-4e18-b8b5-810aab665638",
   "metadata": {},
   "outputs": [
    {
     "data": {
      "text/html": [
       "<div>\n",
       "<style scoped>\n",
       "    .dataframe tbody tr th:only-of-type {\n",
       "        vertical-align: middle;\n",
       "    }\n",
       "\n",
       "    .dataframe tbody tr th {\n",
       "        vertical-align: top;\n",
       "    }\n",
       "\n",
       "    .dataframe thead th {\n",
       "        text-align: right;\n",
       "    }\n",
       "</style>\n",
       "<table border=\"1\" class=\"dataframe\">\n",
       "  <thead>\n",
       "    <tr style=\"text-align: right;\">\n",
       "      <th></th>\n",
       "      <th>Gender_neutral_names</th>\n",
       "    </tr>\n",
       "    <tr>\n",
       "      <th>Year</th>\n",
       "      <th></th>\n",
       "    </tr>\n",
       "  </thead>\n",
       "  <tbody>\n",
       "    <tr>\n",
       "      <th>2008</th>\n",
       "      <td>2557</td>\n",
       "    </tr>\n",
       "  </tbody>\n",
       "</table>\n",
       "</div>"
      ],
      "text/plain": [
       "      Gender_neutral_names\n",
       "Year                      \n",
       "2008                  2557"
      ]
     },
     "execution_count": 40,
     "metadata": {},
     "output_type": "execute_result"
    }
   ],
   "source": [
    "gender_neutral = df.groupby(['Year', 'Name']).agg({'Gender': 'nunique'})\n",
    "gender_neutral = gender_neutral[gender_neutral['Gender'] > 1]\n",
    "gender_neutral_per_year = gender_neutral.groupby('Year').size()\n",
    "year_with_most_gender_neutral_names = gender_neutral_per_year.idxmax()\n",
    "max_gender_neutral_count = gender_neutral_per_year.max()\n",
    "result_table = pd.DataFrame({\n",
    "    'Year': [year_with_most_gender_neutral_names],\n",
    "    'Gender_neutral_names': [max_gender_neutral_count]\n",
    "})\n",
    "\n",
    "result_table.set_index('Year')\n"
   ]
  },
  {
   "cell_type": "markdown",
   "id": "b4a3c7e0-8be5-49fb-ad3b-90bf009fd8da",
   "metadata": {},
   "source": [
    "## **Task 15**\n",
    "### Find the total number of births in a year"
   ]
  },
  {
   "cell_type": "code",
   "execution_count": 43,
   "id": "9ebfe76c-9055-4916-960f-a4efd439fb97",
   "metadata": {},
   "outputs": [
    {
     "data": {
      "text/html": [
       "<div>\n",
       "<style scoped>\n",
       "    .dataframe tbody tr th:only-of-type {\n",
       "        vertical-align: middle;\n",
       "    }\n",
       "\n",
       "    .dataframe tbody tr th {\n",
       "        vertical-align: top;\n",
       "    }\n",
       "\n",
       "    .dataframe thead th {\n",
       "        text-align: right;\n",
       "    }\n",
       "</style>\n",
       "<table border=\"1\" class=\"dataframe\">\n",
       "  <thead>\n",
       "    <tr style=\"text-align: right;\">\n",
       "      <th></th>\n",
       "      <th>Count</th>\n",
       "    </tr>\n",
       "    <tr>\n",
       "      <th>Year</th>\n",
       "      <th></th>\n",
       "    </tr>\n",
       "  </thead>\n",
       "  <tbody>\n",
       "    <tr>\n",
       "      <th>1880</th>\n",
       "      <td>201484</td>\n",
       "    </tr>\n",
       "    <tr>\n",
       "      <th>1881</th>\n",
       "      <td>192699</td>\n",
       "    </tr>\n",
       "    <tr>\n",
       "      <th>1882</th>\n",
       "      <td>221538</td>\n",
       "    </tr>\n",
       "    <tr>\n",
       "      <th>1883</th>\n",
       "      <td>216950</td>\n",
       "    </tr>\n",
       "    <tr>\n",
       "      <th>1884</th>\n",
       "      <td>243467</td>\n",
       "    </tr>\n",
       "  </tbody>\n",
       "</table>\n",
       "</div>"
      ],
      "text/plain": [
       "       Count\n",
       "Year        \n",
       "1880  201484\n",
       "1881  192699\n",
       "1882  221538\n",
       "1883  216950\n",
       "1884  243467"
      ]
     },
     "execution_count": 43,
     "metadata": {},
     "output_type": "execute_result"
    }
   ],
   "source": [
    "df.groupby('Year').agg({'Count':'sum'}).head()"
   ]
  },
  {
   "cell_type": "markdown",
   "id": "62953736-3ab2-4bd7-bd11-da3a8fb45f65",
   "metadata": {},
   "source": [
    "## **Task 16**\n",
    "### Find the year when the most children were born"
   ]
  },
  {
   "cell_type": "code",
   "execution_count": 49,
   "id": "92838999-061d-4b5e-af65-eb8d0e8fcede",
   "metadata": {},
   "outputs": [
    {
     "data": {
      "text/plain": [
       "1957"
      ]
     },
     "execution_count": 49,
     "metadata": {},
     "output_type": "execute_result"
    }
   ],
   "source": [
    "df.groupby('Year').agg({'Count': 'sum'}).idxmax().item()"
   ]
  },
  {
   "cell_type": "markdown",
   "id": "716797c9-ee49-4630-a044-17792fc6c8d2",
   "metadata": {},
   "source": [
    "## **Task 17**\n",
    "### Find the number of girls and boys born each year"
   ]
  },
  {
   "cell_type": "code",
   "execution_count": 54,
   "id": "b7fe2baf-b2e4-444f-8c6e-3bfe6c3c951d",
   "metadata": {},
   "outputs": [
    {
     "data": {
      "text/html": [
       "<div>\n",
       "<style scoped>\n",
       "    .dataframe tbody tr th:only-of-type {\n",
       "        vertical-align: middle;\n",
       "    }\n",
       "\n",
       "    .dataframe tbody tr th {\n",
       "        vertical-align: top;\n",
       "    }\n",
       "\n",
       "    .dataframe thead th {\n",
       "        text-align: right;\n",
       "    }\n",
       "</style>\n",
       "<table border=\"1\" class=\"dataframe\">\n",
       "  <thead>\n",
       "    <tr style=\"text-align: right;\">\n",
       "      <th>Gender</th>\n",
       "      <th>F</th>\n",
       "      <th>M</th>\n",
       "    </tr>\n",
       "    <tr>\n",
       "      <th>Year</th>\n",
       "      <th></th>\n",
       "      <th></th>\n",
       "    </tr>\n",
       "  </thead>\n",
       "  <tbody>\n",
       "    <tr>\n",
       "      <th>1880</th>\n",
       "      <td>90993</td>\n",
       "      <td>110491</td>\n",
       "    </tr>\n",
       "    <tr>\n",
       "      <th>1881</th>\n",
       "      <td>91954</td>\n",
       "      <td>100745</td>\n",
       "    </tr>\n",
       "    <tr>\n",
       "      <th>1882</th>\n",
       "      <td>107850</td>\n",
       "      <td>113688</td>\n",
       "    </tr>\n",
       "    <tr>\n",
       "      <th>1883</th>\n",
       "      <td>112321</td>\n",
       "      <td>104629</td>\n",
       "    </tr>\n",
       "    <tr>\n",
       "      <th>1884</th>\n",
       "      <td>129022</td>\n",
       "      <td>114445</td>\n",
       "    </tr>\n",
       "  </tbody>\n",
       "</table>\n",
       "</div>"
      ],
      "text/plain": [
       "Gender       F       M\n",
       "Year                  \n",
       "1880     90993  110491\n",
       "1881     91954  100745\n",
       "1882    107850  113688\n",
       "1883    112321  104629\n",
       "1884    129022  114445"
      ]
     },
     "execution_count": 54,
     "metadata": {},
     "output_type": "execute_result"
    }
   ],
   "source": [
    "df.pivot_table(index='Year', columns='Gender', values='Count', aggfunc='sum').head()"
   ]
  },
  {
   "cell_type": "markdown",
   "id": "1dfb1e48-d47f-44fd-92d2-e87b20365687",
   "metadata": {},
   "source": [
    "## **Task 18**\n",
    "### Count the number of years when girls were born more than than boys"
   ]
  },
  {
   "cell_type": "code",
   "execution_count": 65,
   "id": "40d46dda-90c4-4ff5-9f42-229c40a37ace",
   "metadata": {},
   "outputs": [
    {
     "data": {
      "text/plain": [
       "54"
      ]
     },
     "execution_count": 65,
     "metadata": {},
     "output_type": "execute_result"
    }
   ],
   "source": [
    "births_by_gender = df.pivot_table(index='Year', columns='Gender', values='Count', aggfunc='sum')\n",
    "years_with_more_girls = (births_by_gender['F'] > births_by_gender['M']).sum()\n",
    "years_with_more_girls.item()"
   ]
  },
  {
   "cell_type": "markdown",
   "id": "41ceaa95-4e66-4e2f-88ff-56c7d3db1a7a",
   "metadata": {},
   "source": [
    "## **Task 21**\n",
    "### Count how many times the boys were called Barbara"
   ]
  },
  {
   "cell_type": "code",
   "execution_count": 116,
   "id": "3de01c25-a536-41b5-a046-ea102746a5d2",
   "metadata": {},
   "outputs": [
    {
     "data": {
      "text/plain": [
       "4139"
      ]
     },
     "execution_count": 116,
     "metadata": {},
     "output_type": "execute_result"
    }
   ],
   "source": [
    "df[(df['Name'] == 'Barbara') & (df['Gender'] == 'M')]['Count'].sum().item()\n"
   ]
  },
  {
   "cell_type": "markdown",
   "id": "5ee75ddd-523e-46d6-bec8-c9fcfe818317",
   "metadata": {},
   "source": [
    "## **Task 22**\n",
    "### Count how many times the boys were called Barbara"
   ]
  },
  {
   "cell_type": "code",
   "execution_count": 75,
   "id": "dda6ffe0-cfa6-427e-8962-f4184763dbea",
   "metadata": {},
   "outputs": [
    {
     "data": {
      "text/plain": [
       "'Observation was conducted for 135 years'"
      ]
     },
     "execution_count": 75,
     "metadata": {},
     "output_type": "execute_result"
    }
   ],
   "source": [
    "f\"Observation was conducted for {df['Year'].nunique()} years\""
   ]
  },
  {
   "cell_type": "markdown",
   "id": "ac54bf5e-e454-460d-9ca2-00cfab3381ea",
   "metadata": {},
   "source": [
    "## **Task 23**\n",
    "### Know the most popular gender-neutral names (those that are present every year)"
   ]
  },
  {
   "cell_type": "code",
   "execution_count": 89,
   "id": "f192fd05-f222-443b-8365-2e400b63dbd2",
   "metadata": {},
   "outputs": [
    {
     "data": {
      "text/html": [
       "<div>\n",
       "<style scoped>\n",
       "    .dataframe tbody tr th:only-of-type {\n",
       "        vertical-align: middle;\n",
       "    }\n",
       "\n",
       "    .dataframe tbody tr th {\n",
       "        vertical-align: top;\n",
       "    }\n",
       "\n",
       "    .dataframe thead th {\n",
       "        text-align: right;\n",
       "    }\n",
       "</style>\n",
       "<table border=\"1\" class=\"dataframe\">\n",
       "  <thead>\n",
       "    <tr style=\"text-align: right;\">\n",
       "      <th></th>\n",
       "      <th>Name</th>\n",
       "    </tr>\n",
       "  </thead>\n",
       "  <tbody>\n",
       "    <tr>\n",
       "      <th>0</th>\n",
       "      <td>James</td>\n",
       "    </tr>\n",
       "    <tr>\n",
       "      <th>1</th>\n",
       "      <td>John</td>\n",
       "    </tr>\n",
       "    <tr>\n",
       "      <th>2</th>\n",
       "      <td>Robert</td>\n",
       "    </tr>\n",
       "    <tr>\n",
       "      <th>3</th>\n",
       "      <td>William</td>\n",
       "    </tr>\n",
       "    <tr>\n",
       "      <th>4</th>\n",
       "      <td>Joseph</td>\n",
       "    </tr>\n",
       "    <tr>\n",
       "      <th>5</th>\n",
       "      <td>Jean</td>\n",
       "    </tr>\n",
       "    <tr>\n",
       "      <th>6</th>\n",
       "      <td>Jesse</td>\n",
       "    </tr>\n",
       "    <tr>\n",
       "      <th>7</th>\n",
       "      <td>Leslie</td>\n",
       "    </tr>\n",
       "    <tr>\n",
       "      <th>8</th>\n",
       "      <td>Francis</td>\n",
       "    </tr>\n",
       "    <tr>\n",
       "      <th>9</th>\n",
       "      <td>Lee</td>\n",
       "    </tr>\n",
       "    <tr>\n",
       "      <th>10</th>\n",
       "      <td>Jessie</td>\n",
       "    </tr>\n",
       "    <tr>\n",
       "      <th>11</th>\n",
       "      <td>Marion</td>\n",
       "    </tr>\n",
       "    <tr>\n",
       "      <th>12</th>\n",
       "      <td>Johnnie</td>\n",
       "    </tr>\n",
       "    <tr>\n",
       "      <th>13</th>\n",
       "      <td>Sidney</td>\n",
       "    </tr>\n",
       "    <tr>\n",
       "      <th>14</th>\n",
       "      <td>Ollie</td>\n",
       "    </tr>\n",
       "    <tr>\n",
       "      <th>15</th>\n",
       "      <td>Tommie</td>\n",
       "    </tr>\n",
       "  </tbody>\n",
       "</table>\n",
       "</div>"
      ],
      "text/plain": [
       "       Name\n",
       "0     James\n",
       "1      John\n",
       "2    Robert\n",
       "3   William\n",
       "4    Joseph\n",
       "5      Jean\n",
       "6     Jesse\n",
       "7    Leslie\n",
       "8   Francis\n",
       "9       Lee\n",
       "10   Jessie\n",
       "11   Marion\n",
       "12  Johnnie\n",
       "13   Sidney\n",
       "14    Ollie\n",
       "15   Tommie"
      ]
     },
     "execution_count": 89,
     "metadata": {},
     "output_type": "execute_result"
    }
   ],
   "source": [
    "gender_counts_per_year_name = df.groupby(['Year', 'Name'])['Gender'].nunique()\n",
    "gender_neutral = gender_neutral[gender_neutral['Gender'] > 1]\n",
    "names_present_in_all_years = gender_neutral.groupby('Name').size()\n",
    "always_gender_neutral_names = names_present_in_all_years[names_present_in_all_years == df['Year'].nunique()]\n",
    "result_table = df[df['Name'].isin(always_gender_neutral_names.index)].groupby('Name')['Count'].sum().sort_values(ascending=False).reset_index()\n",
    "result_table = result_table[['Name']]\n",
    "result_table"
   ]
  },
  {
   "cell_type": "markdown",
   "id": "bff06d50-212a-4338-a092-711ec74f6248",
   "metadata": {},
   "source": [
    "## **Task 24**\n",
    "### Find the most popular among unpopular names (unpopular name, which was used to name children the most number of times)"
   ]
  },
  {
   "cell_type": "code",
   "execution_count": 112,
   "id": "24b040cf-447e-4c0f-93bc-06c31c69b5b3",
   "metadata": {},
   "outputs": [
    {
     "data": {
      "text/plain": [
       "'The most popular of the unpopular names is Celester. This name has been called 160 times'"
      ]
     },
     "execution_count": 112,
     "metadata": {},
     "output_type": "execute_result"
    }
   ],
   "source": [
    "unpopular_names = df[df['Count'] == 5]\n",
    "most_popular_unpopular_name = unpopular_names.groupby('Name').agg({'Count': 'sum'}).nlargest(1, 'Count')\n",
    "f'The most popular of the unpopular names is {most_popular_unpopular_name.index[0]}. This name has been called {most_popular_unpopular_name['Count'].values[0]} times'"
   ]
  },
  {
   "cell_type": "markdown",
   "id": "359a7e97-cf53-498a-a609-98a11985b948",
   "metadata": {},
   "source": [
    "## **Task 26**\n",
    "### Draw graphs of the number of female names John and male names Mary by year."
   ]
  },
  {
   "cell_type": "code",
   "execution_count": 142,
   "id": "8b29ce50-b7e5-451b-a54f-66acec9e65aa",
   "metadata": {},
   "outputs": [
    {
     "data": {
      "image/png": "[encoded data removed]",
      "text/plain": [
       "<Figure size 1000x500 with 1 Axes>"
      ]
     },
     "metadata": {},
     "output_type": "display_data"
    }
   ],
   "source": [
    "john_counts = df[(df['Name'] == 'John') & (df['Gender'] == 'F')]\n",
    "mary_counts = df[(df['Name'] == 'Mary') & (df['Gender'] == 'M')]\n",
    "\n",
    "john_by_year_counts = john_counts.groupby('Year')['Count'].sum()\n",
    "mary_by_year_counts = mary_counts.groupby('Year')['Count'].sum()\n",
    "\n",
    "plt.figure(figsize=(10, 5), dpi=100)\n",
    "\n",
    "plt.plot(john_by_year_counts.index, john_by_year_counts.values, color='blue', label='John')\n",
    "plt.plot(mary_by_year_counts.index, mary_by_year_counts.values, color='red', label='Mary')\n",
    "\n",
    "plt.title(\"Number of female names John and male names Mary by year\")\n",
    "plt.xlabel('Year')\n",
    "plt.ylabel('Count')\n",
    "plt.legend(title='Name')\n",
    "\n",
    "plt.show()"
   ]
  }
 ],
 "metadata": {
  "kernelspec": {
   "display_name": "Python 3 (ipykernel)",
   "language": "python",
   "name": "python3"
  },
  "language_info": {
   "codemirror_mode": {
    "name": "ipython",
    "version": 3
   },
   "file_extension": ".py",
   "mimetype": "text/x-python",
   "name": "python",
   "nbconvert_exporter": "python",
   "pygments_lexer": "ipython3",
   "version": "3.12.3"
  }
 },
 "nbformat": 4,
 "nbformat_minor": 5
}
