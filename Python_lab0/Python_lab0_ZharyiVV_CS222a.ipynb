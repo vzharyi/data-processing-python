{
 "cells": [
  {
   "cell_type": "code",
   "execution_count": 4,
   "id": "6fccf86b-e485-4276-9a12-f8b9965ba701",
   "metadata": {},
   "outputs": [
    {
     "name": "stdout",
     "output_type": "stream",
     "text": [
      "Zharyi Vadym. Variant: 7\n"
     ]
    }
   ],
   "source": [
    "N = ord(\"V\") % 10 + 1\n",
    "print(f\"Zharyi Vadym. Variant: {N}\")"
   ]
  },
  {
   "cell_type": "markdown",
   "id": "016db663-fb1f-4833-a660-751d7984a1cf",
   "metadata": {},
   "source": [
    "# Ice<span style=\"color: red;\">l</span><span style=\"color: green;\">a</span><span style=\"color: blue;\">n</span><span style=\"color: purple;\">d</span>\n",
    "---\n",
    "### ***Information***\n",
    "**Iceland** an island country located in western Northern Europe in the North Atlantic Ocean (northwest of Great Britain). In the north and northeast it is washed by the Arctic Ocean."
   ]
  },
  {
   "cell_type": "markdown",
   "id": "c36868bb-03ba-4c08-802c-dfc41b296195",
   "metadata": {},
   "source": [
    "|              |                      |\n",
    "|--------------|----------------------|\n",
    "|**President** |Hadla Toumasdouttir   |\n",
    "|**Capital**   |Reykjavik             |\n",
    "|**Area**      |103,125 km²           |\n",
    "|**Population**|368,590 people        |\n",
    "|**Government**|Parliamentary republic|\n",
    "|**Currency**  |Icelandic krone(ISK)  |\n",
    "---"
   ]
  },
  {
   "cell_type": "markdown",
   "id": "7e4550a2-8b22-462e-9f8b-c9132231ad47",
   "metadata": {},
   "source": [
    "### ***Famous people***\n",
    "* **Haldór Kiljan Laxness** - Icelandic writer, poet, playwright and translator. He won the Nobel Prize for Literature in 1955 (“For the vivid epic power which revived the great narrative art of Iceland”) and the Literature Prize of the World Peace Council.\n",
    "\n",
    "<div style=\"text-align: center;\">\n",
    "  <img src=\"https://upload.wikimedia.org/wikipedia/commons/4/4d/Halld%C3%B3r_Kiljan_Laxness_1955.jpg\" alt=\"Haldór Kiljan Laxness\" width=\"280\" height=\"396\">\n",
    "</div>\n",
    "\n",
    "+ **Sveinbjorn Sveinbjörnsson** - Icelandic composer who wrote the music for the Icelandic anthem.\n",
    "\n",
    "<div style=\"text-align: center;\">\n",
    "  <img src=\"https://upload.wikimedia.org/wikipedia/commons/2/25/Sveinbj%C3%B6rn_Sveinbj%C3%B6rnsson.jpg\" alt=\"Sveinbjörn Sveinbjörnsson\" width=\"444\" height=\"484\">\n",
    "</div>\n",
    "\n",
    "- **Fridrik Taur Fridriksson** - Icelandic film director, screenwriter, and actor.\n",
    "\n",
    "<div style=\"text-align: center;\">\n",
    "  <img src=\"https://upload.wikimedia.org/wikipedia/commons/thumb/8/83/Fri%C3%B0rik_%C3%9E%C3%B3r_%C3%A1_Eddunni.jpg/500px-Fri%C3%B0rik_%C3%9E%C3%B3r_%C3%A1_Eddunni.jpg\" alt=\"Sveinbjörn Sveinbjörnsson\" width=\"640\" height=\"427\">\n",
    "\n",
    "---"
   ]
  },
  {
   "cell_type": "markdown",
   "id": "43687def-5ed1-4aa8-a398-4b04a26bbc01",
   "metadata": {},
   "source": [
    "### ***Economy and industry***\n",
    "* **Economy before 2008**:\n",
    "    * *unemployment in Iceland was between one and three percent, after 2008 it exceeded 7.6 percent;*\n",
    "    * *inflation before 2008 was at 10%. With the onset of the crisis, many experts predicted that there would be deflation, but it did not happen. Inflation fell by 3-4%;*\n",
    "    * *Iceland's GDP in 2007 was 12.85 billion USD, the gross domestic product figure fell by 3% between 2008 and 2010;*\n",
    "\n",
    "* **Industry**:\n",
    "    * *Production of building materials, furniture, metal products, and electrical equipment;*\n",
    "    * *aluminum production;*\n",
    "    * *fish processing;*\n",
    "    * *development of the cloak and shoe industry.*\n",
    "---"
   ]
  },
  {
   "cell_type": "markdown",
   "id": "865258f4-21c8-4577-9e0d-76967148293a",
   "metadata": {},
   "source": [
    "### ***Interesting fact***\n",
    "<p style=\"border: 2px solid black; padding: 10px;\">\n",
    "    The pride of Iceland and one of its national symbols is the <strong>Blue Lagoon</strong>. It is a completely unique geothermal lake, its water temperature is +37 ° all year round.\n",
    "    <a href=\"https://vislandii.com/attractions/hot-pots/44-blue-lagoon\">\n",
    "    <img src=\"https://la-vidaloca.com/upload/publication/1f4ed40c02ad71093676d6afee8f18eb.png\" alt=\"Blue Lagoon\" width=\"1400\" height=\"920\">\n",
    "    </a>\n",
    "</p>\n",
    "\n",
    "\n",
    "**Dehtifoss Waterfall** is considered to be the most powerful waterfall in Europe: it discharges about 500 m³ of water per second. Its spray can be seen from a kilometer away.\n",
    "![Dehtifoss Waterfall](https://globalextreme.ru/wp-content/uploads/2018/11/detifoss.jpg)\n",
    "\n",
    "<p style=\"border: 1px solid blue; padding: 10px;\">\n",
    "More facts here: <a href=\"https://feerie.com.ua/ru/blog/748\">Interesting facts about Iceland</a>\n",
    "</p>\n",
    "\n",
    "---"
   ]
  },
  {
   "cell_type": "markdown",
   "id": "a4c263b0-07ae-444d-80c4-5fd1b5cc5be4",
   "metadata": {},
   "source": [
    "### ***Iceland flag***"
   ]
  },
  {
   "cell_type": "code",
   "execution_count": 45,
   "id": "bd9cce3e-5c2c-4e24-95e4-99dfc0fb1778",
   "metadata": {},
   "outputs": [
    {
     "data": {
      "text/html": [
       "<svg width=\"300\" height=\"200\" xmlns=\"http://www.w3.org/2000/svg\">\n",
       "\n",
       "  <!-- Blue background of the flag -->\n",
       "  <rect width=\"300\" height=\"200\" fill=\"#00509c\"/>\n",
       "\n",
       "  <!-- White horizontal stripe -->\n",
       "  <rect width=\"300\" height=\"40\" y=\"83\" fill=\"#fdfdfd\"/>\n",
       "\n",
       "  <!-- White vertical stripe -->\n",
       "  <rect width=\"40\" height=\"200\" x=\"80\" fill=\"#fdfdfd\"/>\n",
       "\n",
       "  <!-- White vertical stripe -->\n",
       "  <rect width=\"20\" height=\"200\" x=\"90\" fill=\"#db1832\"/>\n",
       "\n",
       "  <!-- White vertical stripe -->\n",
       "  <rect width=\"300\" height=\"20\" y=\"93\" fill=\"#db1832\"/>\n",
       "</svg>\n"
      ],
      "text/plain": [
       "<IPython.core.display.HTML object>"
      ]
     },
     "metadata": {},
     "output_type": "display_data"
    }
   ],
   "source": [
    "%%HTML\n",
    "<svg width=\"300\" height=\"200\" xmlns=\"http://www.w3.org/2000/svg\">\n",
    "\n",
    "  <!-- Blue background of the flag -->\n",
    "  <rect width=\"300\" height=\"200\" fill=\"#00509c\"/>\n",
    "\n",
    "  <!-- White horizontal stripe -->\n",
    "  <rect width=\"300\" height=\"40\" y=\"83\" fill=\"#fdfdfd\"/>\n",
    "\n",
    "  <!-- White vertical stripe -->\n",
    "  <rect width=\"40\" height=\"200\" x=\"80\" fill=\"#fdfdfd\"/>\n",
    "\n",
    "  <!-- White vertical stripe -->\n",
    "  <rect width=\"20\" height=\"200\" x=\"90\" fill=\"#db1832\"/>\n",
    "\n",
    "  <!-- White vertical stripe -->\n",
    "  <rect width=\"300\" height=\"20\" y=\"93\" fill=\"#db1832\"/>\n",
    "</svg>"
   ]
  },
  {
   "cell_type": "markdown",
   "id": "52ff97e4-f879-4482-b2d8-c87883f85fd3",
   "metadata": {},
   "source": [
    "---\n",
    "### ***Algorithm for converting numbers (integers and floating point) from decimal to binary***"
   ]
  },
  {
   "cell_type": "code",
   "execution_count": 9,
   "id": "4d1e0dbc-4ac8-45d5-9d1c-4b07e61e06eb",
   "metadata": {},
   "outputs": [
    {
     "name": "stdin",
     "output_type": "stream",
     "text": [
      "Enter any number:  5\n"
     ]
    },
    {
     "name": "stdout",
     "output_type": "stream",
     "text": [
      "5.0 in the binary system will be 0|101\n"
     ]
    }
   ],
   "source": [
    "def int_to_bin(n):\n",
    "    if n == 0:\n",
    "        return '0'\n",
    "    binary = ''\n",
    "    while n > 0:\n",
    "        binary = str(n % 2) + binary\n",
    "        n = n // 2\n",
    "    return binary\n",
    "\n",
    "def float_to_bin(num):\n",
    "    whole = int(num)\n",
    "    fraction = num - whole\n",
    "\n",
    "    whole_bin = int_to_bin(whole)\n",
    "\n",
    "    fraction_bin = ''\n",
    "    while fraction > 0:\n",
    "        fraction *= 2\n",
    "        bit = int(fraction)\n",
    "        fraction_bin += str(bit)\n",
    "        fraction -= bit\n",
    "    return whole_bin + ('.' + fraction_bin if fraction_bin else '')\n",
    "\n",
    "def task_7():\n",
    "    num = float(input(\"Enter any number: \"))\n",
    "    if num < 0:\n",
    "        sign = '1|'\n",
    "    else:\n",
    "        sign = '0|'\n",
    "    binary_representation = float_to_bin(abs(num))\n",
    "    print(f\"{num} in the binary system will be {sign}{binary_representation}\")\n",
    "\n",
    "task_7()"
   ]
  },
  {
   "cell_type": "code",
   "execution_count": null,
   "id": "1d29a373-5286-4caa-bcd4-04d8ade32aef",
   "metadata": {},
   "outputs": [],
   "source": []
  }
 ],
 "metadata": {
  "kernelspec": {
   "display_name": "Python 3 (ipykernel)",
   "language": "python",
   "name": "python3"
  },
  "language_info": {
   "codemirror_mode": {
    "name": "ipython",
    "version": 3
   },
   "file_extension": ".py",
   "mimetype": "text/x-python",
   "name": "python",
   "nbconvert_exporter": "python",
   "pygments_lexer": "ipython3",
   "version": "3.12.3"
  }
 },
 "nbformat": 4,
 "nbformat_minor": 5
}
